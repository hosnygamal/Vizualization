{
 "cells": [
  {
   "cell_type": "markdown",
   "metadata": {},
   "source": [
    "## Analyze A/B Test Results\n",
    "\n",
    "This project will assure you have mastered the subjects covered in the statistics lessons.  The hope is to have this project be as comprehensive of these topics as possible.  Good luck!\n",
    "\n",
    "## Table of Contents\n",
    "- [Introduction](#intro)\n",
    "- [Part I - Probability](#probability)\n",
    "- [Part II - A/B Test](#ab_test)\n",
    "- [Part III - Regression](#regression)\n",
    "\n",
    "\n",
    "<a id='intro'></a>\n",
    "### Introduction\n",
    "\n",
    "A/B tests are very commonly performed by data analysts and data scientists.  It is important that you get some practice working with the difficulties of these \n",
    "\n",
    "For this project, you will be working to understand the results of an A/B test run by an e-commerce website.  Your goal is to work through this notebook to help the company understand if they should implement the new page, keep the old page, or perhaps run the experiment longer to make their decision.\n",
    "\n",
    "**As you work through this notebook, follow along in the classroom and answer the corresponding quiz questions associated with each question.** The labels for each classroom concept are provided for each question.  This will assure you are on the right track as you work through the project, and you can feel more confident in your final submission meeting the criteria.  As a final check, assure you meet all the criteria on the [RUBRIC](https://review.udacity.com/#!/projects/37e27304-ad47-4eb0-a1ab-8c12f60e43d0/rubric).\n",
    "\n",
    "<a id='probability'></a>\n",
    "#### Part I - Probability\n",
    "\n",
    "To get started, let's import our libraries."
   ]
  },
  {
   "cell_type": "code",
   "execution_count": 1,
   "metadata": {},
   "outputs": [],
   "source": [
    "import pandas as pd\n",
    "import numpy as np\n",
    "import random\n",
    "import matplotlib.pyplot as plt\n",
    "%matplotlib inline\n",
    "#We are setting the seed to assure you get the same answers on quizzes as we set up\n",
    "random.seed(42)"
   ]
  },
  {
   "cell_type": "markdown",
   "metadata": {},
   "source": [
    "`1.` Now, read in the `ab_data.csv` data. Store it in `df`.  **Use your dataframe to answer the questions in Quiz 1 of the classroom.**\n",
    "\n",
    "a. Read in the dataset and take a look at the top few rows here:"
   ]
  },
  {
   "cell_type": "code",
   "execution_count": 3,
   "metadata": {},
   "outputs": [
    {
     "data": {
      "text/html": [
       "<div>\n",
       "<style scoped>\n",
       "    .dataframe tbody tr th:only-of-type {\n",
       "        vertical-align: middle;\n",
       "    }\n",
       "\n",
       "    .dataframe tbody tr th {\n",
       "        vertical-align: top;\n",
       "    }\n",
       "\n",
       "    .dataframe thead th {\n",
       "        text-align: right;\n",
       "    }\n",
       "</style>\n",
       "<table border=\"1\" class=\"dataframe\">\n",
       "  <thead>\n",
       "    <tr style=\"text-align: right;\">\n",
       "      <th></th>\n",
       "      <th>user_id</th>\n",
       "      <th>timestamp</th>\n",
       "      <th>group</th>\n",
       "      <th>landing_page</th>\n",
       "      <th>converted</th>\n",
       "    </tr>\n",
       "  </thead>\n",
       "  <tbody>\n",
       "    <tr>\n",
       "      <th>0</th>\n",
       "      <td>851104</td>\n",
       "      <td>2017-01-21 22:11:48.556739</td>\n",
       "      <td>control</td>\n",
       "      <td>old_page</td>\n",
       "      <td>0</td>\n",
       "    </tr>\n",
       "    <tr>\n",
       "      <th>1</th>\n",
       "      <td>804228</td>\n",
       "      <td>2017-01-12 08:01:45.159739</td>\n",
       "      <td>control</td>\n",
       "      <td>old_page</td>\n",
       "      <td>0</td>\n",
       "    </tr>\n",
       "    <tr>\n",
       "      <th>2</th>\n",
       "      <td>661590</td>\n",
       "      <td>2017-01-11 16:55:06.154213</td>\n",
       "      <td>treatment</td>\n",
       "      <td>new_page</td>\n",
       "      <td>0</td>\n",
       "    </tr>\n",
       "    <tr>\n",
       "      <th>3</th>\n",
       "      <td>853541</td>\n",
       "      <td>2017-01-08 18:28:03.143765</td>\n",
       "      <td>treatment</td>\n",
       "      <td>new_page</td>\n",
       "      <td>0</td>\n",
       "    </tr>\n",
       "    <tr>\n",
       "      <th>4</th>\n",
       "      <td>864975</td>\n",
       "      <td>2017-01-21 01:52:26.210827</td>\n",
       "      <td>control</td>\n",
       "      <td>old_page</td>\n",
       "      <td>1</td>\n",
       "    </tr>\n",
       "  </tbody>\n",
       "</table>\n",
       "</div>"
      ],
      "text/plain": [
       "   user_id                   timestamp      group landing_page  converted\n",
       "0   851104  2017-01-21 22:11:48.556739    control     old_page          0\n",
       "1   804228  2017-01-12 08:01:45.159739    control     old_page          0\n",
       "2   661590  2017-01-11 16:55:06.154213  treatment     new_page          0\n",
       "3   853541  2017-01-08 18:28:03.143765  treatment     new_page          0\n",
       "4   864975  2017-01-21 01:52:26.210827    control     old_page          1"
      ]
     },
     "execution_count": 3,
     "metadata": {},
     "output_type": "execute_result"
    }
   ],
   "source": [
    "#read data\n",
    "df = pd.read_csv('ab_data.csv')\n",
    "df.head()"
   ]
  },
  {
   "cell_type": "markdown",
   "metadata": {},
   "source": [
    "b. Use the below cell to find the number of rows in the dataset."
   ]
  },
  {
   "cell_type": "code",
   "execution_count": 3,
   "metadata": {},
   "outputs": [
    {
     "data": {
      "text/plain": [
       "294478"
      ]
     },
     "execution_count": 3,
     "metadata": {},
     "output_type": "execute_result"
    }
   ],
   "source": [
    "#Num of rows\n",
    "df.shape[0]"
   ]
  },
  {
   "cell_type": "markdown",
   "metadata": {},
   "source": [
    "c. The number of unique users in the dataset."
   ]
  },
  {
   "cell_type": "code",
   "execution_count": 4,
   "metadata": {},
   "outputs": [
    {
     "data": {
      "text/plain": [
       "290584"
      ]
     },
     "execution_count": 4,
     "metadata": {},
     "output_type": "execute_result"
    }
   ],
   "source": [
    "#Userid unique Vals\n",
    "df.user_id.nunique()"
   ]
  },
  {
   "cell_type": "markdown",
   "metadata": {
    "collapsed": true
   },
   "source": [
    "d. The proportion of users converted."
   ]
  },
  {
   "cell_type": "code",
   "execution_count": 5,
   "metadata": {},
   "outputs": [
    {
     "data": {
      "text/plain": [
       "0.11965919355605512"
      ]
     },
     "execution_count": 5,
     "metadata": {},
     "output_type": "execute_result"
    }
   ],
   "source": [
    "df.converted.mean()"
   ]
  },
  {
   "cell_type": "markdown",
   "metadata": {
    "collapsed": true
   },
   "source": [
    "e. The number of times the `new_page` and `treatment` don't line up."
   ]
  },
  {
   "cell_type": "code",
   "execution_count": 6,
   "metadata": {},
   "outputs": [],
   "source": [
    "#query to get each row that doesnt match \n",
    "trt_unmatch= df.query('group == \"treatment\" & landing_page != \"new_page\"').count()\n",
    "ctl_unmatch= df.query('group== \"control\" & landing_page != \"old_page\"').count()"
   ]
  },
  {
   "cell_type": "code",
   "execution_count": 7,
   "metadata": {},
   "outputs": [
    {
     "data": {
      "text/plain": [
       "3893"
      ]
     },
     "execution_count": 7,
     "metadata": {},
     "output_type": "execute_result"
    }
   ],
   "source": [
    "#rows dont match\n",
    "trt_unmatch[0] + ctl_unmatch[0]"
   ]
  },
  {
   "cell_type": "markdown",
   "metadata": {},
   "source": [
    "f. Do any of the rows have missing values?"
   ]
  },
  {
   "cell_type": "code",
   "execution_count": 8,
   "metadata": {},
   "outputs": [
    {
     "data": {
      "text/plain": [
       "user_id         False\n",
       "timestamp       False\n",
       "group           False\n",
       "landing_page    False\n",
       "converted       False\n",
       "dtype: bool"
      ]
     },
     "execution_count": 8,
     "metadata": {},
     "output_type": "execute_result"
    }
   ],
   "source": [
    "#check null\n",
    "df.isnull().any()"
   ]
  },
  {
   "cell_type": "markdown",
   "metadata": {},
   "source": [
    "`2.` For the rows where **treatment** is not aligned with **new_page** or **control** is not aligned with **old_page**, we cannot be sure if this row truly received the new or old page.  Use **Quiz 2** in the classroom to provide how we should handle these rows.  \n",
    "\n",
    "a. Now use the answer to the quiz to create a new dataset that meets the specifications from the quiz.  Store your new dataframe in **df2**."
   ]
  },
  {
   "cell_type": "code",
   "execution_count": 5,
   "metadata": {},
   "outputs": [],
   "source": [
    "#query to drop rows for group treatment\n",
    "df1 = df.drop(df.query('group==\"treatment\" & landing_page != \"new_page\"').index)"
   ]
  },
  {
   "cell_type": "code",
   "execution_count": 6,
   "metadata": {},
   "outputs": [],
   "source": [
    "#query to drop rows for group control\n",
    "df2 = df1.drop(df1[(df1.group ==\"control\") & (df1.landing_page != \"old_page\")].index)"
   ]
  },
  {
   "cell_type": "code",
   "execution_count": 7,
   "metadata": {},
   "outputs": [
    {
     "data": {
      "text/plain": [
       "0"
      ]
     },
     "execution_count": 7,
     "metadata": {},
     "output_type": "execute_result"
    }
   ],
   "source": [
    "# Double Check all of the correct rows were removed - this should be 0\n",
    "df2[((df2['group'] == 'treatment') == (df2['landing_page'] == 'new_page')) == False].shape[0]"
   ]
  },
  {
   "cell_type": "code",
   "execution_count": 8,
   "metadata": {},
   "outputs": [
    {
     "data": {
      "text/plain": [
       "(0, 0)"
      ]
     },
     "execution_count": 8,
     "metadata": {},
     "output_type": "execute_result"
    }
   ],
   "source": [
    "#Second Check\n",
    "df2.query('group == \"treatment\" & landing_page != \"new_page\"').count()[0],\\\n",
    "df2.query('group == \"control\" & landing_page != \"old_page\"').count()[0]"
   ]
  },
  {
   "cell_type": "markdown",
   "metadata": {},
   "source": [
    "`3.` Use **df2** and the cells below to answer questions for **Quiz3** in the classroom."
   ]
  },
  {
   "cell_type": "markdown",
   "metadata": {},
   "source": [
    "a. How many unique **user_id**s are in **df2**?"
   ]
  },
  {
   "cell_type": "code",
   "execution_count": 13,
   "metadata": {},
   "outputs": [
    {
     "data": {
      "text/plain": [
       "290584"
      ]
     },
     "execution_count": 13,
     "metadata": {},
     "output_type": "execute_result"
    }
   ],
   "source": [
    "df2.user_id.nunique()"
   ]
  },
  {
   "cell_type": "markdown",
   "metadata": {
    "collapsed": true
   },
   "source": [
    "b. There is one **user_id** repeated in **df2**.  What is it?"
   ]
  },
  {
   "cell_type": "code",
   "execution_count": 14,
   "metadata": {},
   "outputs": [
    {
     "data": {
      "text/html": [
       "<div>\n",
       "<style scoped>\n",
       "    .dataframe tbody tr th:only-of-type {\n",
       "        vertical-align: middle;\n",
       "    }\n",
       "\n",
       "    .dataframe tbody tr th {\n",
       "        vertical-align: top;\n",
       "    }\n",
       "\n",
       "    .dataframe thead th {\n",
       "        text-align: right;\n",
       "    }\n",
       "</style>\n",
       "<table border=\"1\" class=\"dataframe\">\n",
       "  <thead>\n",
       "    <tr style=\"text-align: right;\">\n",
       "      <th></th>\n",
       "      <th>user_id</th>\n",
       "      <th>timestamp</th>\n",
       "      <th>group</th>\n",
       "      <th>landing_page</th>\n",
       "      <th>converted</th>\n",
       "    </tr>\n",
       "  </thead>\n",
       "  <tbody>\n",
       "    <tr>\n",
       "      <th>1899</th>\n",
       "      <td>773192</td>\n",
       "      <td>2017-01-09 05:37:58.781806</td>\n",
       "      <td>treatment</td>\n",
       "      <td>new_page</td>\n",
       "      <td>0</td>\n",
       "    </tr>\n",
       "    <tr>\n",
       "      <th>2893</th>\n",
       "      <td>773192</td>\n",
       "      <td>2017-01-14 02:55:59.590927</td>\n",
       "      <td>treatment</td>\n",
       "      <td>new_page</td>\n",
       "      <td>0</td>\n",
       "    </tr>\n",
       "  </tbody>\n",
       "</table>\n",
       "</div>"
      ],
      "text/plain": [
       "      user_id                   timestamp      group landing_page  converted\n",
       "1899   773192  2017-01-09 05:37:58.781806  treatment     new_page          0\n",
       "2893   773192  2017-01-14 02:55:59.590927  treatment     new_page          0"
      ]
     },
     "execution_count": 14,
     "metadata": {},
     "output_type": "execute_result"
    }
   ],
   "source": [
    "df2[df2.duplicated(['user_id'], keep=False)]"
   ]
  },
  {
   "cell_type": "markdown",
   "metadata": {},
   "source": [
    "c. What is the row information for the repeat **user_id**? "
   ]
  },
  {
   "cell_type": "markdown",
   "metadata": {
    "collapsed": true
   },
   "source": [
    "User id `773192` duplicated twice so we will keep the last one."
   ]
  },
  {
   "cell_type": "markdown",
   "metadata": {},
   "source": [
    "d. Remove **one** of the rows with a duplicate **user_id**, but keep your dataframe as **df2**."
   ]
  },
  {
   "cell_type": "code",
   "execution_count": 9,
   "metadata": {},
   "outputs": [],
   "source": [
    "df2.drop(labels=1899, inplace=True)"
   ]
  },
  {
   "cell_type": "markdown",
   "metadata": {},
   "source": [
    "`4.` Use **df2** in the below cells to answer the quiz questions related to **Quiz 4** in the classroom.\n",
    "\n",
    "a. What is the probability of an individual converting regardless of the page they receive?"
   ]
  },
  {
   "cell_type": "code",
   "execution_count": 16,
   "metadata": {},
   "outputs": [
    {
     "data": {
      "text/plain": [
       "0.11959708724499628"
      ]
     },
     "execution_count": 16,
     "metadata": {},
     "output_type": "execute_result"
    }
   ],
   "source": [
    "df2.converted.mean()"
   ]
  },
  {
   "cell_type": "markdown",
   "metadata": {},
   "source": [
    "b. Given that an individual was in the `control` group, what is the probability they converted?"
   ]
  },
  {
   "cell_type": "code",
   "execution_count": 17,
   "metadata": {},
   "outputs": [
    {
     "data": {
      "text/plain": [
       "0.1203863045004612"
      ]
     },
     "execution_count": 17,
     "metadata": {},
     "output_type": "execute_result"
    }
   ],
   "source": [
    "df2.query('group==\"control\"').converted.mean()"
   ]
  },
  {
   "cell_type": "markdown",
   "metadata": {},
   "source": [
    "c. Given that an individual was in the `treatment` group, what is the probability they converted?"
   ]
  },
  {
   "cell_type": "code",
   "execution_count": 18,
   "metadata": {},
   "outputs": [
    {
     "data": {
      "text/plain": [
       "0.11880806551510564"
      ]
     },
     "execution_count": 18,
     "metadata": {},
     "output_type": "execute_result"
    }
   ],
   "source": [
    "df2.query('group==\"treatment\"').converted.mean()"
   ]
  },
  {
   "cell_type": "markdown",
   "metadata": {},
   "source": [
    "d. What is the probability that an individual received the new page?"
   ]
  },
  {
   "cell_type": "code",
   "execution_count": 19,
   "metadata": {},
   "outputs": [
    {
     "data": {
      "text/plain": [
       "0.5000619442226688"
      ]
     },
     "execution_count": 19,
     "metadata": {},
     "output_type": "execute_result"
    }
   ],
   "source": [
    "len(df2.query('landing_page == \"new_page\"'))/len(df2.landing_page)"
   ]
  },
  {
   "cell_type": "markdown",
   "metadata": {},
   "source": [
    "e. Consider your results from a. through d. above, and explain below whether you think there is sufficient evidence to say that the new treatment page leads to more conversions."
   ]
  },
  {
   "cell_type": "markdown",
   "metadata": {},
   "source": [
    "> **No**, there is no sufficient evidence to say that the new treatment page leads to more conversions, \\\n",
    "> Converted `old_page` on average = **0.120** while converted `new_page` on average = **0.118**"
   ]
  },
  {
   "cell_type": "markdown",
   "metadata": {},
   "source": [
    "<a id='ab_test'></a>\n",
    "### Part II - A/B Test\n",
    "\n",
    "Notice that because of the time stamp associated with each event, you could technically run a hypothesis test continuously as each observation was observed.  \n",
    "\n",
    "However, then the hard question is do you stop as soon as one page is considered significantly better than another or does it need to happen consistently for a certain amount of time?  How long do you run to render a decision that neither page is better than another?  \n",
    "\n",
    "These questions are the difficult parts associated with A/B tests in general.  \n",
    "\n",
    "\n",
    "`1.` For now, consider you need to make the decision just based on all the data provided.  If you want to assume that the old page is better unless the new page proves to be definitely better at a Type I error rate of 5%, what should your null and alternative hypotheses be?  You can state your hypothesis in terms of words or in terms of **$p_{old}$** and **$p_{new}$**, which are the converted rates for the old and new pages."
   ]
  },
  {
   "cell_type": "markdown",
   "metadata": {},
   "source": [
    "$$H0: p_{old} - p_{new} \\geq 0 $$\n",
    "\n",
    "$$H1: p_{old} -  p_{new} < 0$$"
   ]
  },
  {
   "cell_type": "markdown",
   "metadata": {},
   "source": [
    "`2.` Assume under the null hypothesis, $p_{new}$ and $p_{old}$ both have \"true\" success rates equal to the **converted** success rate regardless of page - that is $p_{new}$ and $p_{old}$ are equal. Furthermore, assume they are equal to the **converted** rate in **ab_data.csv** regardless of the page. <br><br>\n",
    "\n",
    "Use a sample size for each page equal to the ones in **ab_data.csv**.  <br><br>\n",
    "\n",
    "Perform the sampling distribution for the difference in **converted** between the two pages over 10,000 iterations of calculating an estimate from the null.  <br><br>\n",
    "\n",
    "Use the cells below to provide the necessary parts of this simulation.  If this doesn't make complete sense right now, don't worry - you are going to work through the problems below to complete this problem.  You can use **Quiz 5** in the classroom to make sure you are on the right track.<br><br>"
   ]
  },
  {
   "cell_type": "markdown",
   "metadata": {},
   "source": [
    "a. What is the **convert rate** for $p_{new}$ under the null? "
   ]
  },
  {
   "cell_type": "code",
   "execution_count": 25,
   "metadata": {},
   "outputs": [
    {
     "data": {
      "text/plain": [
       "0.11959708724499628"
      ]
     },
     "execution_count": 25,
     "metadata": {},
     "output_type": "execute_result"
    }
   ],
   "source": [
    "\"\"\" The H0 states there is not difference between the \n",
    "conversion rates of old and new page So I'll calc converted for P_new\n",
    "\"\"\"\n",
    "p_new = df2.converted.mean()\n",
    "p_new"
   ]
  },
  {
   "cell_type": "markdown",
   "metadata": {},
   "source": [
    "b. What is the **convert rate** for $p_{old}$ under the null? <br><br>"
   ]
  },
  {
   "cell_type": "code",
   "execution_count": 26,
   "metadata": {},
   "outputs": [
    {
     "data": {
      "text/plain": [
       "0.11959708724499628"
      ]
     },
     "execution_count": 26,
     "metadata": {},
     "output_type": "execute_result"
    }
   ],
   "source": [
    "p_old = df2.converted.mean()\n",
    "p_old"
   ]
  },
  {
   "cell_type": "markdown",
   "metadata": {},
   "source": [
    "c. What is $n_{new}$?"
   ]
  },
  {
   "cell_type": "code",
   "execution_count": 27,
   "metadata": {},
   "outputs": [
    {
     "data": {
      "text/plain": [
       "145310"
      ]
     },
     "execution_count": 27,
     "metadata": {},
     "output_type": "execute_result"
    }
   ],
   "source": [
    "n_new , n_old = df2.group.value_counts()\n",
    "n_new"
   ]
  },
  {
   "cell_type": "markdown",
   "metadata": {},
   "source": [
    "d. What is $n_{old}$?"
   ]
  },
  {
   "cell_type": "code",
   "execution_count": 23,
   "metadata": {},
   "outputs": [
    {
     "data": {
      "text/plain": [
       "145274"
      ]
     },
     "execution_count": 23,
     "metadata": {},
     "output_type": "execute_result"
    }
   ],
   "source": [
    "n_old"
   ]
  },
  {
   "cell_type": "markdown",
   "metadata": {},
   "source": [
    "e. Simulate $n_{new}$ transactions with a convert rate of $p_{new}$ under the null.  Store these $n_{new}$ 1's and 0's in **new_page_converted**."
   ]
  },
  {
   "cell_type": "code",
   "execution_count": 29,
   "metadata": {},
   "outputs": [
    {
     "data": {
      "text/plain": [
       "0.11862913770559494"
      ]
     },
     "execution_count": 29,
     "metadata": {},
     "output_type": "execute_result"
    }
   ],
   "source": [
    "new_page_converted = np.random.binomial(1,p_new,n_new)\n",
    "new_page_converted.mean()"
   ]
  },
  {
   "cell_type": "markdown",
   "metadata": {},
   "source": [
    "f. Simulate $n_{old}$ transactions with a convert rate of $p_{old}$ under the null.  Store these $n_{old}$ 1's and 0's in **old_page_converted**."
   ]
  },
  {
   "cell_type": "code",
   "execution_count": 30,
   "metadata": {},
   "outputs": [
    {
     "data": {
      "text/plain": [
       "0.1184864463014717"
      ]
     },
     "execution_count": 30,
     "metadata": {},
     "output_type": "execute_result"
    }
   ],
   "source": [
    "old_page_converted = np.random.binomial(1,p_old,n_old)\n",
    "old_page_converted.mean()"
   ]
  },
  {
   "cell_type": "markdown",
   "metadata": {},
   "source": [
    "g. Find $p_{new}$ - $p_{old}$ for your simulated values from part (e) and (f)."
   ]
  },
  {
   "cell_type": "code",
   "execution_count": 26,
   "metadata": {},
   "outputs": [
    {
     "data": {
      "text/plain": [
       "-0.0003392436637904145"
      ]
     },
     "execution_count": 26,
     "metadata": {},
     "output_type": "execute_result"
    }
   ],
   "source": [
    "#since different sizes in both, \n",
    "#I use the mean to get the difference 𝑝𝑛𝑒𝑤 & 𝑝𝑜𝑙𝑑 \n",
    "new_page_converted.mean() - old_page_converted.mean()"
   ]
  },
  {
   "cell_type": "markdown",
   "metadata": {},
   "source": [
    "h. Simulate 10,000 $p_{new}$ - $p_{old}$ values using this same process similarly to the one you calculated in parts **a. through g.** above.  Store all 10,000 values in a numpy array called **p_diffs**."
   ]
  },
  {
   "cell_type": "code",
   "execution_count": 32,
   "metadata": {},
   "outputs": [],
   "source": [
    "diffs = []\n",
    "for _ in range(10000):\n",
    "    new_page_converted = np.random.binomial(1,p_new,n_new).mean()\n",
    "    old_page_converted = np.random.binomial(1,p_old,n_old).mean()\n",
    "    diffs.append(new_page_converted - old_page_converted)"
   ]
  },
  {
   "cell_type": "markdown",
   "metadata": {},
   "source": [
    "i. Plot a histogram of the **p_diffs**.  Does this plot look like what you expected?  Use the matching problem in the classroom to assure you fully understand what was computed here."
   ]
  },
  {
   "cell_type": "code",
   "execution_count": 35,
   "metadata": {},
   "outputs": [
    {
     "data": {
      "image/png": "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\n",
      "text/plain": [
       "<Figure size 432x288 with 1 Axes>"
      ]
     },
     "metadata": {
      "needs_background": "light"
     },
     "output_type": "display_data"
    }
   ],
   "source": [
    "p_diffs = diffs = np.array(diffs) #You must Convert list to array to build right histograme.\n",
    "plt.hist(p_diffs);\n",
    "plt.title('Simulated Difference of P_new & P_old under the null hypothessis');"
   ]
  },
  {
   "cell_type": "markdown",
   "metadata": {},
   "source": [
    "j. What proportion of the **p_diffs** are greater than the actual difference observed in **ab_data.csv**?"
   ]
  },
  {
   "cell_type": "code",
   "execution_count": 36,
   "metadata": {
    "scrolled": true
   },
   "outputs": [
    {
     "data": {
      "text/plain": [
       "-0.0015782389853555567"
      ]
     },
     "execution_count": 36,
     "metadata": {},
     "output_type": "execute_result"
    }
   ],
   "source": [
    "df_ctl = df2.query('group == \"control\"').converted.mean()\n",
    "df_trt = df2.query('group == \"treatment\"').converted.mean()\n",
    "obs_diff = df_trt - df_ctl\n",
    "obs_diff"
   ]
  },
  {
   "cell_type": "code",
   "execution_count": 39,
   "metadata": {},
   "outputs": [
    {
     "data": {
      "image/png": "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\n",
      "text/plain": [
       "<Figure size 432x288 with 1 Axes>"
      ]
     },
     "metadata": {
      "needs_background": "light"
     },
     "output_type": "display_data"
    }
   ],
   "source": [
    "#null_values center with zero with same spread and size\n",
    "null_values = np.random.normal(0,np.std(p_diffs),10000)\n",
    "plt.hist(null_values);\n",
    "plt.axvline(x=obs_diff, color='r',label=\"Observed difference\");\n",
    "plt.legend()\n",
    "plt.tight_layout()"
   ]
  },
  {
   "cell_type": "code",
   "execution_count": 40,
   "metadata": {},
   "outputs": [
    {
     "data": {
      "text/plain": [
       "0.9046"
      ]
     },
     "execution_count": 40,
     "metadata": {},
     "output_type": "execute_result"
    }
   ],
   "source": [
    "#p-value\n",
    "(null_values > obs_diff).mean()"
   ]
  },
  {
   "cell_type": "markdown",
   "metadata": {},
   "source": [
    "k. In words, explain what you just computed in part **j.**  What is this value called in scientific studies?  What does this value mean in terms of whether or not there is a difference between the new and old pages?"
   ]
  },
  {
   "cell_type": "markdown",
   "metadata": {},
   "source": [
    ">Null values are greater than Observed difference in `ab_data` thats means fails to reject the null hypothesis.\n",
    "In scientific studies the large p-value and in our case `0.9046` This p-value greater than rate type Error I `0.05` means that we cannot reject the null hypothesis and that we do not have sufficient evidence that the `new_page` has a higher conversion rate than the `old_page`."
   ]
  },
  {
   "cell_type": "markdown",
   "metadata": {},
   "source": [
    "l. We could also use a built-in to achieve similar results.  Though using the built-in might be easier to code, the above portions are a walkthrough of the ideas that are critical to correctly thinking about statistical significance. Fill in the below to calculate the number of conversions for each page, as well as the number of individuals who received each page. Let `n_old` and `n_new` refer the the number of rows associated with the old page and new pages, respectively."
   ]
  },
  {
   "cell_type": "code",
   "execution_count": 10,
   "metadata": {},
   "outputs": [],
   "source": [
    "import statsmodels.api as sm\n",
    "\n",
    "n_new ,n_old = len(df2.query('landing_page == \"new_page\"')),\\\n",
    "len(df2.query('landing_page != \"new_page\"'))\n",
    "convert_new = len(df2.query('landing_page == \"new_page\" & converted == 1'))\n",
    "convert_old = len(df2.query('landing_page != \"new_page\" & converted == 1'))"
   ]
  },
  {
   "cell_type": "code",
   "execution_count": 11,
   "metadata": {},
   "outputs": [
    {
     "data": {
      "text/plain": [
       "(145274, 145310)"
      ]
     },
     "execution_count": 11,
     "metadata": {},
     "output_type": "execute_result"
    }
   ],
   "source": [
    "n_old , n_new"
   ]
  },
  {
   "cell_type": "code",
   "execution_count": 12,
   "metadata": {},
   "outputs": [
    {
     "data": {
      "text/plain": [
       "(17489, 17264)"
      ]
     },
     "execution_count": 12,
     "metadata": {},
     "output_type": "execute_result"
    }
   ],
   "source": [
    "convert_old, convert_new"
   ]
  },
  {
   "cell_type": "markdown",
   "metadata": {},
   "source": [
    "m. Now use `stats.proportions_ztest` to compute your test statistic and p-value.  [Here](http://knowledgetack.com/python/statsmodels/proportions_ztest/) is a helpful link on using the built in."
   ]
  },
  {
   "cell_type": "code",
   "execution_count": 44,
   "metadata": {},
   "outputs": [
    {
     "data": {
      "text/plain": [
       "(1.3109241984234394, 0.9050583127590245)"
      ]
     },
     "execution_count": 44,
     "metadata": {},
     "output_type": "execute_result"
    }
   ],
   "source": [
    "z_score, p_value = sm.stats.proportions_ztest([convert_old, convert_new], [n_old, n_new], value=None,alternative='smaller',prop_var=False)\n",
    "\n",
    "z_score, p_value"
   ]
  },
  {
   "cell_type": "markdown",
   "metadata": {},
   "source": [
    "n. What do the z-score and p-value you computed in the previous question mean for the conversion rates of the old and new pages?  Do they agree with the findings in parts **j.** and **k.**?"
   ]
  },
  {
   "cell_type": "markdown",
   "metadata": {},
   "source": [
    ">The z-score and the p-value mean that one fails to reject the Null hypothessis\n",
    "The p_value is `0.90` and is higher than `0.05`, That means we can not be confident with a 95% confidence level that the converted rate of the `new_page` is larger than the `old_page`"
   ]
  },
  {
   "cell_type": "markdown",
   "metadata": {},
   "source": [
    "<a id='regression'></a>\n",
    "### Part III - A regression approach\n",
    "\n",
    "`1.` In this final part, you will see that the result you acheived in the previous A/B test can also be acheived by performing regression.<br><br>\n",
    "\n",
    "a. Since each row is either a conversion or no conversion, what type of regression should you be performing in this case?"
   ]
  },
  {
   "cell_type": "markdown",
   "metadata": {},
   "source": [
    ">The variable is a bool (converted vs not converted), hence logistic regression should I performing ."
   ]
  },
  {
   "cell_type": "markdown",
   "metadata": {},
   "source": [
    "b. The goal is to use **statsmodels** to fit the regression model you specified in part **a.** to see if there is a significant difference in conversion based on which page a customer receives.  However, you first need to create a column for the intercept, and create a dummy variable column for which page each user received.  Add an **intercept** column, as well as an **ab_page** column, which is 1 when an individual receives the **treatment** and 0 if **control**."
   ]
  },
  {
   "cell_type": "code",
   "execution_count": 14,
   "metadata": {},
   "outputs": [
    {
     "data": {
      "text/html": [
       "<div>\n",
       "<style scoped>\n",
       "    .dataframe tbody tr th:only-of-type {\n",
       "        vertical-align: middle;\n",
       "    }\n",
       "\n",
       "    .dataframe tbody tr th {\n",
       "        vertical-align: top;\n",
       "    }\n",
       "\n",
       "    .dataframe thead th {\n",
       "        text-align: right;\n",
       "    }\n",
       "</style>\n",
       "<table border=\"1\" class=\"dataframe\">\n",
       "  <thead>\n",
       "    <tr style=\"text-align: right;\">\n",
       "      <th></th>\n",
       "      <th>user_id</th>\n",
       "      <th>timestamp</th>\n",
       "      <th>group</th>\n",
       "      <th>landing_page</th>\n",
       "      <th>converted</th>\n",
       "      <th>treatment</th>\n",
       "    </tr>\n",
       "  </thead>\n",
       "  <tbody>\n",
       "    <tr>\n",
       "      <th>0</th>\n",
       "      <td>851104</td>\n",
       "      <td>2017-01-21 22:11:48.556739</td>\n",
       "      <td>control</td>\n",
       "      <td>old_page</td>\n",
       "      <td>0</td>\n",
       "      <td>0</td>\n",
       "    </tr>\n",
       "    <tr>\n",
       "      <th>1</th>\n",
       "      <td>804228</td>\n",
       "      <td>2017-01-12 08:01:45.159739</td>\n",
       "      <td>control</td>\n",
       "      <td>old_page</td>\n",
       "      <td>0</td>\n",
       "      <td>0</td>\n",
       "    </tr>\n",
       "    <tr>\n",
       "      <th>2</th>\n",
       "      <td>661590</td>\n",
       "      <td>2017-01-11 16:55:06.154213</td>\n",
       "      <td>treatment</td>\n",
       "      <td>new_page</td>\n",
       "      <td>0</td>\n",
       "      <td>1</td>\n",
       "    </tr>\n",
       "    <tr>\n",
       "      <th>3</th>\n",
       "      <td>853541</td>\n",
       "      <td>2017-01-08 18:28:03.143765</td>\n",
       "      <td>treatment</td>\n",
       "      <td>new_page</td>\n",
       "      <td>0</td>\n",
       "      <td>1</td>\n",
       "    </tr>\n",
       "    <tr>\n",
       "      <th>4</th>\n",
       "      <td>864975</td>\n",
       "      <td>2017-01-21 01:52:26.210827</td>\n",
       "      <td>control</td>\n",
       "      <td>old_page</td>\n",
       "      <td>1</td>\n",
       "      <td>0</td>\n",
       "    </tr>\n",
       "  </tbody>\n",
       "</table>\n",
       "</div>"
      ],
      "text/plain": [
       "   user_id                   timestamp      group landing_page  converted  \\\n",
       "0   851104  2017-01-21 22:11:48.556739    control     old_page          0   \n",
       "1   804228  2017-01-12 08:01:45.159739    control     old_page          0   \n",
       "2   661590  2017-01-11 16:55:06.154213  treatment     new_page          0   \n",
       "3   853541  2017-01-08 18:28:03.143765  treatment     new_page          0   \n",
       "4   864975  2017-01-21 01:52:26.210827    control     old_page          1   \n",
       "\n",
       "   treatment  \n",
       "0          0  \n",
       "1          0  \n",
       "2          1  \n",
       "3          1  \n",
       "4          0  "
      ]
     },
     "execution_count": 14,
     "metadata": {},
     "output_type": "execute_result"
    }
   ],
   "source": [
    "df2[['control','treatment']]= pd.get_dummies(df2['group'])\n",
    "df2 = df2.drop('control',axis = 1)\n",
    "\n",
    "df2.head()"
   ]
  },
  {
   "cell_type": "markdown",
   "metadata": {},
   "source": [
    "c. Use **statsmodels** to import your regression model.  Instantiate the model, and fit the model using the two columns you created in part **b.** to predict whether or not an individual converts."
   ]
  },
  {
   "cell_type": "code",
   "execution_count": 15,
   "metadata": {},
   "outputs": [
    {
     "name": "stdout",
     "output_type": "stream",
     "text": [
      "Optimization terminated successfully.\n",
      "         Current function value: 0.366118\n",
      "         Iterations 6\n"
     ]
    },
    {
     "data": {
      "text/html": [
       "<table class=\"simpletable\">\n",
       "<caption>Logit Regression Results</caption>\n",
       "<tr>\n",
       "  <th>Dep. Variable:</th>       <td>converted</td>    <th>  No. Observations:  </th>   <td>290584</td>   \n",
       "</tr>\n",
       "<tr>\n",
       "  <th>Model:</th>                 <td>Logit</td>      <th>  Df Residuals:      </th>   <td>290582</td>   \n",
       "</tr>\n",
       "<tr>\n",
       "  <th>Method:</th>                 <td>MLE</td>       <th>  Df Model:          </th>   <td>     1</td>   \n",
       "</tr>\n",
       "<tr>\n",
       "  <th>Date:</th>            <td>Sun, 07 Feb 2021</td> <th>  Pseudo R-squ.:     </th>  <td>8.077e-06</td> \n",
       "</tr>\n",
       "<tr>\n",
       "  <th>Time:</th>                <td>06:55:24</td>     <th>  Log-Likelihood:    </th> <td>-1.0639e+05</td>\n",
       "</tr>\n",
       "<tr>\n",
       "  <th>converged:</th>             <td>True</td>       <th>  LL-Null:           </th> <td>-1.0639e+05</td>\n",
       "</tr>\n",
       "<tr>\n",
       "  <th>Covariance Type:</th>     <td>nonrobust</td>    <th>  LLR p-value:       </th>   <td>0.1899</td>   \n",
       "</tr>\n",
       "</table>\n",
       "<table class=\"simpletable\">\n",
       "<tr>\n",
       "      <td></td>         <th>coef</th>     <th>std err</th>      <th>z</th>      <th>P>|z|</th>  <th>[0.025</th>    <th>0.975]</th>  \n",
       "</tr>\n",
       "<tr>\n",
       "  <th>intercept</th> <td>   -1.9888</td> <td>    0.008</td> <td> -246.669</td> <td> 0.000</td> <td>   -2.005</td> <td>   -1.973</td>\n",
       "</tr>\n",
       "<tr>\n",
       "  <th>treatment</th> <td>   -0.0150</td> <td>    0.011</td> <td>   -1.311</td> <td> 0.190</td> <td>   -0.037</td> <td>    0.007</td>\n",
       "</tr>\n",
       "</table>"
      ],
      "text/plain": [
       "<class 'statsmodels.iolib.summary.Summary'>\n",
       "\"\"\"\n",
       "                           Logit Regression Results                           \n",
       "==============================================================================\n",
       "Dep. Variable:              converted   No. Observations:               290584\n",
       "Model:                          Logit   Df Residuals:                   290582\n",
       "Method:                           MLE   Df Model:                            1\n",
       "Date:                Sun, 07 Feb 2021   Pseudo R-squ.:               8.077e-06\n",
       "Time:                        06:55:24   Log-Likelihood:            -1.0639e+05\n",
       "converged:                       True   LL-Null:                   -1.0639e+05\n",
       "Covariance Type:            nonrobust   LLR p-value:                    0.1899\n",
       "==============================================================================\n",
       "                 coef    std err          z      P>|z|      [0.025      0.975]\n",
       "------------------------------------------------------------------------------\n",
       "intercept     -1.9888      0.008   -246.669      0.000      -2.005      -1.973\n",
       "treatment     -0.0150      0.011     -1.311      0.190      -0.037       0.007\n",
       "==============================================================================\n",
       "\"\"\""
      ]
     },
     "execution_count": 15,
     "metadata": {},
     "output_type": "execute_result"
    }
   ],
   "source": [
    "import statsmodels.api as sm\n",
    "\n",
    "df2['intercept'] = 1\n",
    "\n",
    "logit = sm.Logit(df2['converted'],df2[['intercept','treatment']])\n",
    "results = logit.fit()\n",
    "results.summary()"
   ]
  },
  {
   "cell_type": "markdown",
   "metadata": {},
   "source": [
    "d. Provide the summary of your model below, and use it as necessary to answer the following questions."
   ]
  },
  {
   "cell_type": "markdown",
   "metadata": {},
   "source": [
    "#### see above"
   ]
  },
  {
   "cell_type": "markdown",
   "metadata": {},
   "source": [
    "e. What is the p-value associated with **ab_page**? Why does it differ from the value you found in **Part II**?<br><br>  **Hint**: What are the null and alternative hypotheses associated with your regression model, and how do they compare to the null and alternative hypotheses in the **Part II**?"
   ]
  },
  {
   "cell_type": "markdown",
   "metadata": {},
   "source": [
    "p-value = 0.19\n",
    "\n",
    "$$H0: p_{new} = p_{old}$$\n",
    "\n",
    "$$H1: p_{new} \\neq p_{old}$$\n",
    "\n",
    ">The `p-value`  with treatment = 0.19. higher than 0.05, hence not significant\n",
    "in both cases, the results do not support the alternative hypothesis sufficiently."
   ]
  },
  {
   "cell_type": "markdown",
   "metadata": {},
   "source": [
    "f. Now, you are considering other things that might influence whether or not an individual converts.  Discuss why it is a good idea to consider other factors to add into your regression model.  Are there any disadvantages to adding additional terms into your regression model?"
   ]
  },
  {
   "cell_type": "markdown",
   "metadata": {},
   "source": [
    "It is a good to consider about other factors to identify other potencial influence on the conversion rate.\n",
    "A **disadvantage** \n",
    "adding additional terms into the regression is Simpson's paradox where impact of different variables disappears, hence the model gets more complex."
   ]
  },
  {
   "cell_type": "markdown",
   "metadata": {},
   "source": [
    "g. Now along with testing if the conversion rate changes for different pages, also add an effect based on which country a user lives. You will need to read in the **countries.csv** dataset and merge together your datasets on the approporiate rows.  [Here](https://pandas.pydata.org/pandas-docs/stable/generated/pandas.DataFrame.join.html) are the docs for joining tables. \n",
    "\n",
    "Does it appear that country had an impact on conversion?  Don't forget to create dummy variables for these country columns - **Hint: You will need two columns for the three dummy variables.** Provide the statistical output as well as a written response to answer this question."
   ]
  },
  {
   "cell_type": "code",
   "execution_count": 16,
   "metadata": {},
   "outputs": [],
   "source": [
    "countries_df = pd.read_csv('./countries.csv')\n",
    "df_new = countries_df.set_index('user_id').join(df2.set_index('user_id'), how='inner')"
   ]
  },
  {
   "cell_type": "code",
   "execution_count": 17,
   "metadata": {},
   "outputs": [
    {
     "data": {
      "text/html": [
       "<div>\n",
       "<style scoped>\n",
       "    .dataframe tbody tr th:only-of-type {\n",
       "        vertical-align: middle;\n",
       "    }\n",
       "\n",
       "    .dataframe tbody tr th {\n",
       "        vertical-align: top;\n",
       "    }\n",
       "\n",
       "    .dataframe thead th {\n",
       "        text-align: right;\n",
       "    }\n",
       "</style>\n",
       "<table border=\"1\" class=\"dataframe\">\n",
       "  <thead>\n",
       "    <tr style=\"text-align: right;\">\n",
       "      <th></th>\n",
       "      <th>country</th>\n",
       "      <th>timestamp</th>\n",
       "      <th>group</th>\n",
       "      <th>landing_page</th>\n",
       "      <th>converted</th>\n",
       "      <th>treatment</th>\n",
       "      <th>intercept</th>\n",
       "    </tr>\n",
       "    <tr>\n",
       "      <th>user_id</th>\n",
       "      <th></th>\n",
       "      <th></th>\n",
       "      <th></th>\n",
       "      <th></th>\n",
       "      <th></th>\n",
       "      <th></th>\n",
       "      <th></th>\n",
       "    </tr>\n",
       "  </thead>\n",
       "  <tbody>\n",
       "    <tr>\n",
       "      <th>834778</th>\n",
       "      <td>UK</td>\n",
       "      <td>2017-01-14 23:08:43.304998</td>\n",
       "      <td>control</td>\n",
       "      <td>old_page</td>\n",
       "      <td>0</td>\n",
       "      <td>0</td>\n",
       "      <td>1</td>\n",
       "    </tr>\n",
       "    <tr>\n",
       "      <th>928468</th>\n",
       "      <td>US</td>\n",
       "      <td>2017-01-23 14:44:16.387854</td>\n",
       "      <td>treatment</td>\n",
       "      <td>new_page</td>\n",
       "      <td>0</td>\n",
       "      <td>1</td>\n",
       "      <td>1</td>\n",
       "    </tr>\n",
       "    <tr>\n",
       "      <th>822059</th>\n",
       "      <td>UK</td>\n",
       "      <td>2017-01-16 14:04:14.719771</td>\n",
       "      <td>treatment</td>\n",
       "      <td>new_page</td>\n",
       "      <td>1</td>\n",
       "      <td>1</td>\n",
       "      <td>1</td>\n",
       "    </tr>\n",
       "    <tr>\n",
       "      <th>711597</th>\n",
       "      <td>UK</td>\n",
       "      <td>2017-01-22 03:14:24.763511</td>\n",
       "      <td>control</td>\n",
       "      <td>old_page</td>\n",
       "      <td>0</td>\n",
       "      <td>0</td>\n",
       "      <td>1</td>\n",
       "    </tr>\n",
       "    <tr>\n",
       "      <th>710616</th>\n",
       "      <td>UK</td>\n",
       "      <td>2017-01-16 13:14:44.000513</td>\n",
       "      <td>treatment</td>\n",
       "      <td>new_page</td>\n",
       "      <td>0</td>\n",
       "      <td>1</td>\n",
       "      <td>1</td>\n",
       "    </tr>\n",
       "  </tbody>\n",
       "</table>\n",
       "</div>"
      ],
      "text/plain": [
       "        country                   timestamp      group landing_page  \\\n",
       "user_id                                                               \n",
       "834778       UK  2017-01-14 23:08:43.304998    control     old_page   \n",
       "928468       US  2017-01-23 14:44:16.387854  treatment     new_page   \n",
       "822059       UK  2017-01-16 14:04:14.719771  treatment     new_page   \n",
       "711597       UK  2017-01-22 03:14:24.763511    control     old_page   \n",
       "710616       UK  2017-01-16 13:14:44.000513  treatment     new_page   \n",
       "\n",
       "         converted  treatment  intercept  \n",
       "user_id                                   \n",
       "834778           0          0          1  \n",
       "928468           0          1          1  \n",
       "822059           1          1          1  \n",
       "711597           0          0          1  \n",
       "710616           0          1          1  "
      ]
     },
     "execution_count": 17,
     "metadata": {},
     "output_type": "execute_result"
    }
   ],
   "source": [
    "df_new.head()"
   ]
  },
  {
   "cell_type": "code",
   "execution_count": 19,
   "metadata": {},
   "outputs": [
    {
     "data": {
      "text/plain": [
       "US    203619\n",
       "UK     72466\n",
       "CA     14499\n",
       "Name: country, dtype: int64"
      ]
     },
     "execution_count": 19,
     "metadata": {},
     "output_type": "execute_result"
    }
   ],
   "source": [
    "#df_new.country.unique()\n",
    "df_new.country.value_counts()"
   ]
  },
  {
   "cell_type": "code",
   "execution_count": 20,
   "metadata": {},
   "outputs": [
    {
     "data": {
      "text/html": [
       "<div>\n",
       "<style scoped>\n",
       "    .dataframe tbody tr th:only-of-type {\n",
       "        vertical-align: middle;\n",
       "    }\n",
       "\n",
       "    .dataframe tbody tr th {\n",
       "        vertical-align: top;\n",
       "    }\n",
       "\n",
       "    .dataframe thead th {\n",
       "        text-align: right;\n",
       "    }\n",
       "</style>\n",
       "<table border=\"1\" class=\"dataframe\">\n",
       "  <thead>\n",
       "    <tr style=\"text-align: right;\">\n",
       "      <th></th>\n",
       "      <th>country</th>\n",
       "      <th>timestamp</th>\n",
       "      <th>group</th>\n",
       "      <th>landing_page</th>\n",
       "      <th>converted</th>\n",
       "      <th>treatment</th>\n",
       "      <th>intercept</th>\n",
       "      <th>CA</th>\n",
       "      <th>UK</th>\n",
       "      <th>US</th>\n",
       "    </tr>\n",
       "    <tr>\n",
       "      <th>user_id</th>\n",
       "      <th></th>\n",
       "      <th></th>\n",
       "      <th></th>\n",
       "      <th></th>\n",
       "      <th></th>\n",
       "      <th></th>\n",
       "      <th></th>\n",
       "      <th></th>\n",
       "      <th></th>\n",
       "      <th></th>\n",
       "    </tr>\n",
       "  </thead>\n",
       "  <tbody>\n",
       "    <tr>\n",
       "      <th>834778</th>\n",
       "      <td>UK</td>\n",
       "      <td>2017-01-14 23:08:43.304998</td>\n",
       "      <td>control</td>\n",
       "      <td>old_page</td>\n",
       "      <td>0</td>\n",
       "      <td>0</td>\n",
       "      <td>1</td>\n",
       "      <td>0</td>\n",
       "      <td>1</td>\n",
       "      <td>0</td>\n",
       "    </tr>\n",
       "    <tr>\n",
       "      <th>928468</th>\n",
       "      <td>US</td>\n",
       "      <td>2017-01-23 14:44:16.387854</td>\n",
       "      <td>treatment</td>\n",
       "      <td>new_page</td>\n",
       "      <td>0</td>\n",
       "      <td>1</td>\n",
       "      <td>1</td>\n",
       "      <td>0</td>\n",
       "      <td>0</td>\n",
       "      <td>1</td>\n",
       "    </tr>\n",
       "    <tr>\n",
       "      <th>822059</th>\n",
       "      <td>UK</td>\n",
       "      <td>2017-01-16 14:04:14.719771</td>\n",
       "      <td>treatment</td>\n",
       "      <td>new_page</td>\n",
       "      <td>1</td>\n",
       "      <td>1</td>\n",
       "      <td>1</td>\n",
       "      <td>0</td>\n",
       "      <td>1</td>\n",
       "      <td>0</td>\n",
       "    </tr>\n",
       "    <tr>\n",
       "      <th>711597</th>\n",
       "      <td>UK</td>\n",
       "      <td>2017-01-22 03:14:24.763511</td>\n",
       "      <td>control</td>\n",
       "      <td>old_page</td>\n",
       "      <td>0</td>\n",
       "      <td>0</td>\n",
       "      <td>1</td>\n",
       "      <td>0</td>\n",
       "      <td>1</td>\n",
       "      <td>0</td>\n",
       "    </tr>\n",
       "    <tr>\n",
       "      <th>710616</th>\n",
       "      <td>UK</td>\n",
       "      <td>2017-01-16 13:14:44.000513</td>\n",
       "      <td>treatment</td>\n",
       "      <td>new_page</td>\n",
       "      <td>0</td>\n",
       "      <td>1</td>\n",
       "      <td>1</td>\n",
       "      <td>0</td>\n",
       "      <td>1</td>\n",
       "      <td>0</td>\n",
       "    </tr>\n",
       "  </tbody>\n",
       "</table>\n",
       "</div>"
      ],
      "text/plain": [
       "        country                   timestamp      group landing_page  \\\n",
       "user_id                                                               \n",
       "834778       UK  2017-01-14 23:08:43.304998    control     old_page   \n",
       "928468       US  2017-01-23 14:44:16.387854  treatment     new_page   \n",
       "822059       UK  2017-01-16 14:04:14.719771  treatment     new_page   \n",
       "711597       UK  2017-01-22 03:14:24.763511    control     old_page   \n",
       "710616       UK  2017-01-16 13:14:44.000513  treatment     new_page   \n",
       "\n",
       "         converted  treatment  intercept  CA  UK  US  \n",
       "user_id                                               \n",
       "834778           0          0          1   0   1   0  \n",
       "928468           0          1          1   0   0   1  \n",
       "822059           1          1          1   0   1   0  \n",
       "711597           0          0          1   0   1   0  \n",
       "710616           0          1          1   0   1   0  "
      ]
     },
     "execution_count": 20,
     "metadata": {},
     "output_type": "execute_result"
    }
   ],
   "source": [
    "### Create the necessary dummy variables\n",
    "df_new[['CA','UK', 'US']]= pd.get_dummies(df_new['country'])\n",
    "df_new.head()"
   ]
  },
  {
   "cell_type": "markdown",
   "metadata": {},
   "source": [
    "h. Though you have now looked at the individual factors of country and page on conversion, we would now like to look at an interaction between page and country to see if there significant effects on conversion.  Create the necessary additional columns, and fit the new model.  \n",
    "\n",
    "Provide the summary results, and your conclusions based on the results."
   ]
  },
  {
   "cell_type": "code",
   "execution_count": 21,
   "metadata": {},
   "outputs": [
    {
     "name": "stdout",
     "output_type": "stream",
     "text": [
      "Optimization terminated successfully.\n",
      "         Current function value: 0.366113\n",
      "         Iterations 6\n"
     ]
    },
    {
     "data": {
      "text/html": [
       "<table class=\"simpletable\">\n",
       "<caption>Logit Regression Results</caption>\n",
       "<tr>\n",
       "  <th>Dep. Variable:</th>       <td>converted</td>    <th>  No. Observations:  </th>   <td>290584</td>   \n",
       "</tr>\n",
       "<tr>\n",
       "  <th>Model:</th>                 <td>Logit</td>      <th>  Df Residuals:      </th>   <td>290580</td>   \n",
       "</tr>\n",
       "<tr>\n",
       "  <th>Method:</th>                 <td>MLE</td>       <th>  Df Model:          </th>   <td>     3</td>   \n",
       "</tr>\n",
       "<tr>\n",
       "  <th>Date:</th>            <td>Sun, 07 Feb 2021</td> <th>  Pseudo R-squ.:     </th>  <td>2.323e-05</td> \n",
       "</tr>\n",
       "<tr>\n",
       "  <th>Time:</th>                <td>07:12:43</td>     <th>  Log-Likelihood:    </th> <td>-1.0639e+05</td>\n",
       "</tr>\n",
       "<tr>\n",
       "  <th>converged:</th>             <td>True</td>       <th>  LL-Null:           </th> <td>-1.0639e+05</td>\n",
       "</tr>\n",
       "<tr>\n",
       "  <th>Covariance Type:</th>     <td>nonrobust</td>    <th>  LLR p-value:       </th>   <td>0.1760</td>   \n",
       "</tr>\n",
       "</table>\n",
       "<table class=\"simpletable\">\n",
       "<tr>\n",
       "      <td></td>         <th>coef</th>     <th>std err</th>      <th>z</th>      <th>P>|z|</th>  <th>[0.025</th>    <th>0.975]</th>  \n",
       "</tr>\n",
       "<tr>\n",
       "  <th>intercept</th> <td>   -1.9794</td> <td>    0.013</td> <td> -155.415</td> <td> 0.000</td> <td>   -2.004</td> <td>   -1.954</td>\n",
       "</tr>\n",
       "<tr>\n",
       "  <th>treatment</th> <td>   -0.0149</td> <td>    0.011</td> <td>   -1.307</td> <td> 0.191</td> <td>   -0.037</td> <td>    0.007</td>\n",
       "</tr>\n",
       "<tr>\n",
       "  <th>CA</th>        <td>   -0.0506</td> <td>    0.028</td> <td>   -1.784</td> <td> 0.074</td> <td>   -0.106</td> <td>    0.005</td>\n",
       "</tr>\n",
       "<tr>\n",
       "  <th>US</th>        <td>   -0.0099</td> <td>    0.013</td> <td>   -0.743</td> <td> 0.457</td> <td>   -0.036</td> <td>    0.016</td>\n",
       "</tr>\n",
       "</table>"
      ],
      "text/plain": [
       "<class 'statsmodels.iolib.summary.Summary'>\n",
       "\"\"\"\n",
       "                           Logit Regression Results                           \n",
       "==============================================================================\n",
       "Dep. Variable:              converted   No. Observations:               290584\n",
       "Model:                          Logit   Df Residuals:                   290580\n",
       "Method:                           MLE   Df Model:                            3\n",
       "Date:                Sun, 07 Feb 2021   Pseudo R-squ.:               2.323e-05\n",
       "Time:                        07:12:43   Log-Likelihood:            -1.0639e+05\n",
       "converged:                       True   LL-Null:                   -1.0639e+05\n",
       "Covariance Type:            nonrobust   LLR p-value:                    0.1760\n",
       "==============================================================================\n",
       "                 coef    std err          z      P>|z|      [0.025      0.975]\n",
       "------------------------------------------------------------------------------\n",
       "intercept     -1.9794      0.013   -155.415      0.000      -2.004      -1.954\n",
       "treatment     -0.0149      0.011     -1.307      0.191      -0.037       0.007\n",
       "CA            -0.0506      0.028     -1.784      0.074      -0.106       0.005\n",
       "US            -0.0099      0.013     -0.743      0.457      -0.036       0.016\n",
       "==============================================================================\n",
       "\"\"\""
      ]
     },
     "execution_count": 21,
     "metadata": {},
     "output_type": "execute_result"
    }
   ],
   "source": [
    "### Fit Your Linear Model And Obtain the Results\n",
    "df_new['intercept'] = 1\n",
    "\n",
    "lm = sm.Logit(df_new['converted'],df_new[['intercept','treatment','CA','US']])\n",
    "results = lm.fit()\n",
    "results.summary()"
   ]
  },
  {
   "cell_type": "markdown",
   "metadata": {},
   "source": [
    "P-values for both country are above 0.05 hence, The country does not appear to have influence on the convertion rate."
   ]
  },
  {
   "cell_type": "code",
   "execution_count": 23,
   "metadata": {},
   "outputs": [
    {
     "data": {
      "text/html": [
       "<div>\n",
       "<style scoped>\n",
       "    .dataframe tbody tr th:only-of-type {\n",
       "        vertical-align: middle;\n",
       "    }\n",
       "\n",
       "    .dataframe tbody tr th {\n",
       "        vertical-align: top;\n",
       "    }\n",
       "\n",
       "    .dataframe thead th {\n",
       "        text-align: right;\n",
       "    }\n",
       "</style>\n",
       "<table border=\"1\" class=\"dataframe\">\n",
       "  <thead>\n",
       "    <tr style=\"text-align: right;\">\n",
       "      <th></th>\n",
       "      <th>country</th>\n",
       "      <th>treatment</th>\n",
       "      <th>converted</th>\n",
       "      <th>intercept</th>\n",
       "      <th>CA</th>\n",
       "      <th>UK</th>\n",
       "      <th>US</th>\n",
       "    </tr>\n",
       "  </thead>\n",
       "  <tbody>\n",
       "    <tr>\n",
       "      <th>0</th>\n",
       "      <td>CA</td>\n",
       "      <td>0</td>\n",
       "      <td>0.118783</td>\n",
       "      <td>1.0</td>\n",
       "      <td>1</td>\n",
       "      <td>0</td>\n",
       "      <td>0</td>\n",
       "    </tr>\n",
       "    <tr>\n",
       "      <th>1</th>\n",
       "      <td>CA</td>\n",
       "      <td>1</td>\n",
       "      <td>0.111902</td>\n",
       "      <td>1.0</td>\n",
       "      <td>1</td>\n",
       "      <td>0</td>\n",
       "      <td>0</td>\n",
       "    </tr>\n",
       "    <tr>\n",
       "      <th>2</th>\n",
       "      <td>UK</td>\n",
       "      <td>0</td>\n",
       "      <td>0.120022</td>\n",
       "      <td>1.0</td>\n",
       "      <td>0</td>\n",
       "      <td>1</td>\n",
       "      <td>0</td>\n",
       "    </tr>\n",
       "    <tr>\n",
       "      <th>3</th>\n",
       "      <td>UK</td>\n",
       "      <td>1</td>\n",
       "      <td>0.121171</td>\n",
       "      <td>1.0</td>\n",
       "      <td>0</td>\n",
       "      <td>1</td>\n",
       "      <td>0</td>\n",
       "    </tr>\n",
       "    <tr>\n",
       "      <th>4</th>\n",
       "      <td>US</td>\n",
       "      <td>0</td>\n",
       "      <td>0.120630</td>\n",
       "      <td>1.0</td>\n",
       "      <td>0</td>\n",
       "      <td>0</td>\n",
       "      <td>1</td>\n",
       "    </tr>\n",
       "    <tr>\n",
       "      <th>5</th>\n",
       "      <td>US</td>\n",
       "      <td>1</td>\n",
       "      <td>0.118466</td>\n",
       "      <td>1.0</td>\n",
       "      <td>0</td>\n",
       "      <td>0</td>\n",
       "      <td>1</td>\n",
       "    </tr>\n",
       "  </tbody>\n",
       "</table>\n",
       "</div>"
      ],
      "text/plain": [
       "  country  treatment  converted  intercept  CA  UK  US\n",
       "0      CA          0   0.118783        1.0   1   0   0\n",
       "1      CA          1   0.111902        1.0   1   0   0\n",
       "2      UK          0   0.120022        1.0   0   1   0\n",
       "3      UK          1   0.121171        1.0   0   1   0\n",
       "4      US          0   0.120630        1.0   0   0   1\n",
       "5      US          1   0.118466        1.0   0   0   1"
      ]
     },
     "execution_count": 23,
     "metadata": {},
     "output_type": "execute_result"
    }
   ],
   "source": [
    "#Mean conversion rate by country and landing_page to looking at interactions.\n",
    "df_new.groupby(['country','treatment'], as_index=False).mean()"
   ]
  },
  {
   "cell_type": "markdown",
   "metadata": {},
   "source": [
    "By looking at interaction I'll check if any country influence in each other"
   ]
  },
  {
   "cell_type": "code",
   "execution_count": 26,
   "metadata": {},
   "outputs": [
    {
     "data": {
      "text/html": [
       "<div>\n",
       "<style scoped>\n",
       "    .dataframe tbody tr th:only-of-type {\n",
       "        vertical-align: middle;\n",
       "    }\n",
       "\n",
       "    .dataframe tbody tr th {\n",
       "        vertical-align: top;\n",
       "    }\n",
       "\n",
       "    .dataframe thead th {\n",
       "        text-align: right;\n",
       "    }\n",
       "</style>\n",
       "<table border=\"1\" class=\"dataframe\">\n",
       "  <thead>\n",
       "    <tr style=\"text-align: right;\">\n",
       "      <th></th>\n",
       "      <th>country</th>\n",
       "      <th>timestamp</th>\n",
       "      <th>group</th>\n",
       "      <th>landing_page</th>\n",
       "      <th>converted</th>\n",
       "      <th>treatment</th>\n",
       "      <th>intercept</th>\n",
       "      <th>CA</th>\n",
       "      <th>UK</th>\n",
       "      <th>US</th>\n",
       "      <th>us*trt</th>\n",
       "      <th>ca*trt</th>\n",
       "    </tr>\n",
       "    <tr>\n",
       "      <th>user_id</th>\n",
       "      <th></th>\n",
       "      <th></th>\n",
       "      <th></th>\n",
       "      <th></th>\n",
       "      <th></th>\n",
       "      <th></th>\n",
       "      <th></th>\n",
       "      <th></th>\n",
       "      <th></th>\n",
       "      <th></th>\n",
       "      <th></th>\n",
       "      <th></th>\n",
       "    </tr>\n",
       "  </thead>\n",
       "  <tbody>\n",
       "    <tr>\n",
       "      <th>834778</th>\n",
       "      <td>UK</td>\n",
       "      <td>2017-01-14 23:08:43.304998</td>\n",
       "      <td>control</td>\n",
       "      <td>old_page</td>\n",
       "      <td>0</td>\n",
       "      <td>0</td>\n",
       "      <td>1</td>\n",
       "      <td>0</td>\n",
       "      <td>1</td>\n",
       "      <td>0</td>\n",
       "      <td>0</td>\n",
       "      <td>0</td>\n",
       "    </tr>\n",
       "    <tr>\n",
       "      <th>928468</th>\n",
       "      <td>US</td>\n",
       "      <td>2017-01-23 14:44:16.387854</td>\n",
       "      <td>treatment</td>\n",
       "      <td>new_page</td>\n",
       "      <td>0</td>\n",
       "      <td>1</td>\n",
       "      <td>1</td>\n",
       "      <td>0</td>\n",
       "      <td>0</td>\n",
       "      <td>1</td>\n",
       "      <td>1</td>\n",
       "      <td>0</td>\n",
       "    </tr>\n",
       "    <tr>\n",
       "      <th>822059</th>\n",
       "      <td>UK</td>\n",
       "      <td>2017-01-16 14:04:14.719771</td>\n",
       "      <td>treatment</td>\n",
       "      <td>new_page</td>\n",
       "      <td>1</td>\n",
       "      <td>1</td>\n",
       "      <td>1</td>\n",
       "      <td>0</td>\n",
       "      <td>1</td>\n",
       "      <td>0</td>\n",
       "      <td>0</td>\n",
       "      <td>0</td>\n",
       "    </tr>\n",
       "    <tr>\n",
       "      <th>711597</th>\n",
       "      <td>UK</td>\n",
       "      <td>2017-01-22 03:14:24.763511</td>\n",
       "      <td>control</td>\n",
       "      <td>old_page</td>\n",
       "      <td>0</td>\n",
       "      <td>0</td>\n",
       "      <td>1</td>\n",
       "      <td>0</td>\n",
       "      <td>1</td>\n",
       "      <td>0</td>\n",
       "      <td>0</td>\n",
       "      <td>0</td>\n",
       "    </tr>\n",
       "    <tr>\n",
       "      <th>710616</th>\n",
       "      <td>UK</td>\n",
       "      <td>2017-01-16 13:14:44.000513</td>\n",
       "      <td>treatment</td>\n",
       "      <td>new_page</td>\n",
       "      <td>0</td>\n",
       "      <td>1</td>\n",
       "      <td>1</td>\n",
       "      <td>0</td>\n",
       "      <td>1</td>\n",
       "      <td>0</td>\n",
       "      <td>0</td>\n",
       "      <td>0</td>\n",
       "    </tr>\n",
       "  </tbody>\n",
       "</table>\n",
       "</div>"
      ],
      "text/plain": [
       "        country                   timestamp      group landing_page  \\\n",
       "user_id                                                               \n",
       "834778       UK  2017-01-14 23:08:43.304998    control     old_page   \n",
       "928468       US  2017-01-23 14:44:16.387854  treatment     new_page   \n",
       "822059       UK  2017-01-16 14:04:14.719771  treatment     new_page   \n",
       "711597       UK  2017-01-22 03:14:24.763511    control     old_page   \n",
       "710616       UK  2017-01-16 13:14:44.000513  treatment     new_page   \n",
       "\n",
       "         converted  treatment  intercept  CA  UK  US  us*trt  ca*trt  \n",
       "user_id                                                               \n",
       "834778           0          0          1   0   1   0       0       0  \n",
       "928468           0          1          1   0   0   1       1       0  \n",
       "822059           1          1          1   0   1   0       0       0  \n",
       "711597           0          0          1   0   1   0       0       0  \n",
       "710616           0          1          1   0   1   0       0       0  "
      ]
     },
     "execution_count": 26,
     "metadata": {},
     "output_type": "execute_result"
    }
   ],
   "source": [
    "# trt = treatment\n",
    "df_new['us*trt'] = df_new.US *df_new.treatment\n",
    "df_new['ca*trt'] = df_new.CA *df_new.treatment\n",
    "\n",
    "df_new.head()\n",
    "                  "
   ]
  },
  {
   "cell_type": "code",
   "execution_count": 27,
   "metadata": {},
   "outputs": [
    {
     "name": "stdout",
     "output_type": "stream",
     "text": [
      "Optimization terminated successfully.\n",
      "         Current function value: 0.366109\n",
      "         Iterations 6\n"
     ]
    },
    {
     "data": {
      "text/html": [
       "<table class=\"simpletable\">\n",
       "<caption>Logit Regression Results</caption>\n",
       "<tr>\n",
       "  <th>Dep. Variable:</th>       <td>converted</td>    <th>  No. Observations:  </th>   <td>290584</td>   \n",
       "</tr>\n",
       "<tr>\n",
       "  <th>Model:</th>                 <td>Logit</td>      <th>  Df Residuals:      </th>   <td>290578</td>   \n",
       "</tr>\n",
       "<tr>\n",
       "  <th>Method:</th>                 <td>MLE</td>       <th>  Df Model:          </th>   <td>     5</td>   \n",
       "</tr>\n",
       "<tr>\n",
       "  <th>Date:</th>            <td>Sun, 07 Feb 2021</td> <th>  Pseudo R-squ.:     </th>  <td>3.482e-05</td> \n",
       "</tr>\n",
       "<tr>\n",
       "  <th>Time:</th>                <td>07:27:14</td>     <th>  Log-Likelihood:    </th> <td>-1.0639e+05</td>\n",
       "</tr>\n",
       "<tr>\n",
       "  <th>converged:</th>             <td>True</td>       <th>  LL-Null:           </th> <td>-1.0639e+05</td>\n",
       "</tr>\n",
       "<tr>\n",
       "  <th>Covariance Type:</th>     <td>nonrobust</td>    <th>  LLR p-value:       </th>   <td>0.1920</td>   \n",
       "</tr>\n",
       "</table>\n",
       "<table class=\"simpletable\">\n",
       "<tr>\n",
       "      <td></td>         <th>coef</th>     <th>std err</th>      <th>z</th>      <th>P>|z|</th>  <th>[0.025</th>    <th>0.975]</th>  \n",
       "</tr>\n",
       "<tr>\n",
       "  <th>intercept</th> <td>   -1.9922</td> <td>    0.016</td> <td> -123.457</td> <td> 0.000</td> <td>   -2.024</td> <td>   -1.961</td>\n",
       "</tr>\n",
       "<tr>\n",
       "  <th>treatment</th> <td>    0.0108</td> <td>    0.023</td> <td>    0.475</td> <td> 0.635</td> <td>   -0.034</td> <td>    0.056</td>\n",
       "</tr>\n",
       "<tr>\n",
       "  <th>US</th>        <td>    0.0057</td> <td>    0.019</td> <td>    0.306</td> <td> 0.760</td> <td>   -0.031</td> <td>    0.043</td>\n",
       "</tr>\n",
       "<tr>\n",
       "  <th>us*trt</th>    <td>   -0.0314</td> <td>    0.027</td> <td>   -1.181</td> <td> 0.238</td> <td>   -0.084</td> <td>    0.021</td>\n",
       "</tr>\n",
       "<tr>\n",
       "  <th>CA</th>        <td>   -0.0118</td> <td>    0.040</td> <td>   -0.296</td> <td> 0.767</td> <td>   -0.090</td> <td>    0.066</td>\n",
       "</tr>\n",
       "<tr>\n",
       "  <th>ca*trt</th>    <td>   -0.0783</td> <td>    0.057</td> <td>   -1.378</td> <td> 0.168</td> <td>   -0.190</td> <td>    0.033</td>\n",
       "</tr>\n",
       "</table>"
      ],
      "text/plain": [
       "<class 'statsmodels.iolib.summary.Summary'>\n",
       "\"\"\"\n",
       "                           Logit Regression Results                           \n",
       "==============================================================================\n",
       "Dep. Variable:              converted   No. Observations:               290584\n",
       "Model:                          Logit   Df Residuals:                   290578\n",
       "Method:                           MLE   Df Model:                            5\n",
       "Date:                Sun, 07 Feb 2021   Pseudo R-squ.:               3.482e-05\n",
       "Time:                        07:27:14   Log-Likelihood:            -1.0639e+05\n",
       "converged:                       True   LL-Null:                   -1.0639e+05\n",
       "Covariance Type:            nonrobust   LLR p-value:                    0.1920\n",
       "==============================================================================\n",
       "                 coef    std err          z      P>|z|      [0.025      0.975]\n",
       "------------------------------------------------------------------------------\n",
       "intercept     -1.9922      0.016   -123.457      0.000      -2.024      -1.961\n",
       "treatment      0.0108      0.023      0.475      0.635      -0.034       0.056\n",
       "US             0.0057      0.019      0.306      0.760      -0.031       0.043\n",
       "us*trt        -0.0314      0.027     -1.181      0.238      -0.084       0.021\n",
       "CA            -0.0118      0.040     -0.296      0.767      -0.090       0.066\n",
       "ca*trt        -0.0783      0.057     -1.378      0.168      -0.190       0.033\n",
       "==============================================================================\n",
       "\"\"\""
      ]
     },
     "execution_count": 27,
     "metadata": {},
     "output_type": "execute_result"
    }
   ],
   "source": [
    "df_new['intercept'] = 1\n",
    "\n",
    "lm = sm.Logit(df_new['converted'],df_new[['intercept','treatment','US','us*trt','CA','ca*trt']])\n",
    "results = lm.fit()\n",
    "results.summary()"
   ]
  },
  {
   "cell_type": "markdown",
   "metadata": {},
   "source": [
    ">The `p_value` for both countries is higher than 0.05,\n",
    "hence, the influence of landing_page in the `US` is not different of the other countries\n",
    "Else in `CA` not different of the others \\\n",
    "**No, significant influence on the convertion based on the country**\n"
   ]
  },
  {
   "cell_type": "markdown",
   "metadata": {},
   "source": [
    ">## To sum up:-\n",
    ">There is not enough evidence that the new_page increases the conversion rate hence, fails to reject nulls hypothessis and based on A/B testing and regression model this no significant evidence that the countries influence the conversion rate \\\n",
    "**It is better to looking at a new landing page.**"
   ]
  },
  
